{
 "cells": [
  {
   "cell_type": "markdown",
   "metadata": {},
   "source": [
    "## EuroPython Online 2020\n",
    "\n",
    "\n",
    "<img width=\"50%\" src=\"https://ep2020.europython.eu/static/img/ep2020-online-logo.png\"></img>\n",
    "\n",
    "\n",
    "### Computer Graphics using Python / pyRT\n",
    "Martin Christen<br/>martin.christen@fhnw.ch<br/>\n",
    "\n",
    "Github Repo: https://github.com/martinchristen/EuroPython2020\n",
    "\n",
    "\n",
    "pyRT (The Python Raytracer) also has a virtual framebuffer, which has nothing to do with ray tracing.\n",
    "In this tutorial I will show how we can use it to create some images and even movies. I will also show the ray tracer.\n",
    "\n",
    "\n",
    "we need pillow/numpy/numba\n",
    "\n",
    "     conda install numpy pillow numba\n",
    "\n",
    "we need pyrt (0.5.7 or higher)\n",
    "     \n",
    "     pip install pyrt\n",
    "     \n",
    "we also need moviepy\n",
    "\n",
    "     pip install moviepy\n",
    "     "
   ]
  },
  {
   "cell_type": "markdown",
   "metadata": {},
   "source": [
    "### 1. Virtual Framebuffer for Pixel Operations\n"
   ]
  },
  {
   "cell_type": "code",
   "execution_count": null,
   "metadata": {},
   "outputs": [],
   "source": [
    "from pyrt.renderer import RGBImage\n",
    "from pyrt.math import Vec2, Vec3\n",
    "import random"
   ]
  },
  {
   "cell_type": "markdown",
   "metadata": {},
   "source": [
    "#### 1.2 Animated Virtual Framebuffer in Jupyter\n"
   ]
  },
  {
   "cell_type": "code",
   "execution_count": null,
   "metadata": {},
   "outputs": [],
   "source": [
    "w = 320\n",
    "h = 240\n",
    "image = RGBImage(w, h)\n",
    "image.clear(Vec3(0.0,0.0,0.4))"
   ]
  },
  {
   "cell_type": "code",
   "execution_count": null,
   "metadata": {},
   "outputs": [],
   "source": [
    "for i in range(5000):\n",
    "    position = Vec2(random.randint(0, w - 1), random.randint(0, h - 1))\n",
    "    color = Vec3(random.uniform(0, 1), random.uniform(0, 1), random.uniform(0, 1))\n",
    "   \n",
    "    image.drawPoint(position, color, 1)"
   ]
  },
  {
   "cell_type": "code",
   "execution_count": null,
   "metadata": {},
   "outputs": [],
   "source": [
    "image.framebuffer()"
   ]
  },
  {
   "cell_type": "code",
   "execution_count": null,
   "metadata": {},
   "outputs": [],
   "source": [
    "for i in range(100):\n",
    "    pos1 = Vec2(random.randint(0, w - 1), random.randint(0, h - 1))\n",
    "    pos2 = Vec2(random.randint(0, w - 1), random.randint(0, h - 1))\n",
    "    color = Vec3(random.uniform(0, 1), random.uniform(0, 1), random.uniform(0, 1))\n",
    "   \n",
    "    image.drawLine(pos1, pos2, color, 2)\n",
    "    image.update(fps=30)"
   ]
  },
  {
   "cell_type": "markdown",
   "metadata": {},
   "source": [
    "#### 1.3 Loading Images"
   ]
  },
  {
   "cell_type": "code",
   "execution_count": null,
   "metadata": {},
   "outputs": [],
   "source": [
    "from pyrt.renderer import loadimage\n",
    "\n",
    "image2 = loadimage(\"data/worldmap/world600.jpg\")\n",
    "image2.framebuffer(\"world\")"
   ]
  },
  {
   "cell_type": "code",
   "execution_count": null,
   "metadata": {},
   "outputs": [],
   "source": [
    "image2.drawCircleFilled(Vec2(300,150), radius=10, color=Vec3(1,0,0), fillcolor=Vec3(1,1,0), size=1)\n",
    "image2.update(\"world\")"
   ]
  },
  {
   "cell_type": "code",
   "execution_count": null,
   "metadata": {},
   "outputs": [],
   "source": [
    "for i in range(100):\n",
    "    pos = Vec2(random.randint(0, image2.width - 1), random.randint(0, image2.height - 1))\n",
    "    radius = random.randint(2,20)\n",
    "    color = Vec3(random.uniform(0, 1), random.uniform(0, 1), random.uniform(0, 1))\n",
    "    fillcolor = Vec3(random.uniform(0, 1), random.uniform(0, 1), random.uniform(0, 1))\n",
    "   \n",
    "    image2.drawCircleFilled(pos, radius, color, fillcolor, 1)\n",
    "    image2.update(\"world\", fps=30)"
   ]
  },
  {
   "cell_type": "markdown",
   "metadata": {},
   "source": [
    "#### 1.4 Example: Display Recent Earthquakes on Map\n",
    "\n",
    "data from USGS: https://earthquake.usgs.gov/earthquakes/feed/v1.0/geojson.php"
   ]
  },
  {
   "cell_type": "code",
   "execution_count": null,
   "metadata": {},
   "outputs": [],
   "source": [
    "import requests\n",
    "import json\n",
    "from pyrt.renderer import RGBImage, loadimage\n",
    "from pyrt.math import Vec2, Vec3\n",
    "\n",
    "data = requests.get(\"https://earthquake.usgs.gov/earthquakes/feed/v1.0/summary/2.5_week.geojson\")\n",
    "with open(\"earthquakes.geojson\",\"wb\") as file:\n",
    "    file.write(data.content)"
   ]
  },
  {
   "cell_type": "code",
   "execution_count": null,
   "metadata": {},
   "outputs": [],
   "source": [
    "with open(\"earthquakes.geojson\") as json_file:\n",
    "    data = json.load(json_file)"
   ]
  },
  {
   "cell_type": "code",
   "execution_count": null,
   "metadata": {},
   "outputs": [],
   "source": [
    "image3 = loadimage(\"data/worldmap/world600.jpg\")\n",
    "\n",
    "for element in data[\"features\"]:\n",
    "    mag = element[\"properties\"][\"mag\"]\n",
    "    coord = element[\"geometry\"][\"coordinates\"]\n",
    "    x = int(image3.width*((coord[0] + 180) / 360))\n",
    "    y = int(image3.height*((coord[1] + 90) / 180))\n",
    "    if mag>4.5:\n",
    "        image3.drawCircleFilled(Vec2(x,y), int(mag), Vec3(0,0,0), Vec3(1,0,0), 1)\n",
    "image3"
   ]
  },
  {
   "cell_type": "markdown",
   "metadata": {},
   "source": [
    "#### 1.5 Procedural Images"
   ]
  },
  {
   "cell_type": "code",
   "execution_count": null,
   "metadata": {},
   "outputs": [],
   "source": [
    "from numba import jit\n",
    "import numpy as np\n",
    "import math\n",
    "from pyrt.renderer import RGBImage, loadimage\n",
    "from pyrt.math import Vec2, Vec3\n",
    "from pyrt.math import clamp3, cross3, step\n",
    "from pyrt.math import SimplexNoise, TileableNoise\n",
    "from pyrt.math import mod"
   ]
  },
  {
   "cell_type": "code",
   "execution_count": null,
   "metadata": {},
   "outputs": [],
   "source": [
    "w = 256\n",
    "h = 256\n",
    "image = RGBImage(w, h)\n",
    "rgb = Vec3()"
   ]
  },
  {
   "cell_type": "markdown",
   "metadata": {},
   "source": [
    "##### 1.5.1 Stripes and Checkerboard"
   ]
  },
  {
   "cell_type": "code",
   "execution_count": null,
   "metadata": {},
   "outputs": [],
   "source": [
    "for x in range(w):\n",
    "    for y in range(h):\n",
    "        xx = x/w # range [0,1[\n",
    "        yy = y/h # range [0,1[\n",
    "         \n",
    "        if mod(6.0*xx, 1.0) < 0.5:                # if 6.0*xx % 1.0 < 0.5:  \n",
    "            rgb[0] = rgb[1] = rgb[2] = 0\n",
    "        else:\n",
    "            rgb[0] = rgb[1] = rgb[2] = 255\n",
    "        \n",
    "        image.data[y][x][0] = rgb[0]\n",
    "        image.data[y][x][1] = rgb[1]\n",
    "        image.data[y][x][2] = rgb[2]\n",
    "image"
   ]
  },
  {
   "cell_type": "code",
   "execution_count": null,
   "metadata": {},
   "outputs": [],
   "source": [
    "for x in range(w):\n",
    "    for y in range(h):\n",
    "        xx = x/w # range [0,1[\n",
    "        yy = y/h # range [0,1[\n",
    "         \n",
    "        if mod(8.0*yy, 1.0) < 0.5:                # if 8.0*yy % 1.0 < 0.5:  \n",
    "            rgb[0] = rgb[1] = rgb[2] = 0\n",
    "        else:\n",
    "            rgb[0] = rgb[1] = rgb[2] = 255\n",
    "        \n",
    "        image.data[y][x][0] = rgb[0]\n",
    "        image.data[y][x][1] = rgb[1]\n",
    "        image.data[y][x][2] = rgb[2]\n",
    "image"
   ]
  },
  {
   "cell_type": "code",
   "execution_count": null,
   "metadata": {},
   "outputs": [],
   "source": [
    "for x in range(w):\n",
    "    for y in range(h):\n",
    "        xx = x/w # range [0,1[\n",
    "        yy = y/h # range [0,1[\n",
    "         \n",
    "        if (mod(4.0*xx, 1.0) < 0.5) ^ (mod(4.0*yy, 1.0) < 0.5):\n",
    "            rgb[0] = rgb[1] = rgb[2] = 0\n",
    "        else:\n",
    "            rgb[0] = rgb[1] = rgb[2] = 255\n",
    "        \n",
    "        image.data[y][x][0] = rgb[0]\n",
    "        image.data[y][x][1] = rgb[1]\n",
    "        image.data[y][x][2] = rgb[2]\n",
    "image"
   ]
  },
  {
   "cell_type": "markdown",
   "metadata": {},
   "source": [
    "##### 1.5.2 Mandelbrot"
   ]
  },
  {
   "cell_type": "code",
   "execution_count": null,
   "metadata": {},
   "outputs": [],
   "source": [
    "def CreateMandelbrotImage(w=256, h=256, maxiteration=200):\n",
    "    image = RGBImage(w, h)\n",
    "    rgb = Vec3()\n",
    "\n",
    "    for x in range(w):\n",
    "        for y in range(h):\n",
    "            xx = 2*(x/w-0.5)-0.5\n",
    "            yy = 2*(y/h-0.5) \n",
    "\n",
    "            xpos = 0.0\n",
    "            ypos = 0.0\n",
    "            iteration = 0.0\n",
    "\n",
    "            while (xpos*xpos + ypos*ypos < 4) and (iteration < maxiteration):\n",
    "                xpos, ypos = xpos*xpos - ypos*ypos + xx, 2.0*xpos*ypos + yy\n",
    "                iteration += 1.0\n",
    "\n",
    "            rgb[0] = (iteration % 20.0) / 20.0\n",
    "            rgb[1] = (iteration % 10.0) / 10.0\n",
    "            rgb[2] = (iteration % 20.0) / 20.0\n",
    "            image.data[y][x][0] = int(255*rgb[0])\n",
    "            image.data[y][x][1] = int(255*rgb[1])\n",
    "            image.data[y][x][2] = int(255*rgb[2])\n",
    "    return image"
   ]
  },
  {
   "cell_type": "code",
   "execution_count": null,
   "metadata": {},
   "outputs": [],
   "source": [
    "%%time\n",
    "CreateMandelbrotImage(256,256,200)"
   ]
  },
  {
   "cell_type": "markdown",
   "metadata": {},
   "source": [
    "#### Using Numba to speed up:\n",
    "\n",
    "Please note that pyrt functions can't be used with numba at this time, we create an external numpy array for the framebuffer."
   ]
  },
  {
   "cell_type": "code",
   "execution_count": null,
   "metadata": {},
   "outputs": [],
   "source": [
    "@jit\n",
    "def CreateMandelbrotImageNumba(w=256, h=256, maxiteration=200, xoff=0.0, yoff=0.0, zoom=1.0):\n",
    "    imagedata = np.zeros((w, h, 3), dtype=np.uint8)\n",
    "    rgb = np.zeros(3, dtype=np.float32)\n",
    "\n",
    "    for x in range(w):\n",
    "        for y in range(h):\n",
    "            xx = zoom*(2*(x/w-0.5)-0.5-xoff)\n",
    "            yy = zoom*(2*(y/h-0.5)-yoff)\n",
    "\n",
    "            xpos = 0.0\n",
    "            ypos = 0.0\n",
    "            iteration = 0.0\n",
    "\n",
    "            while (xpos*xpos + ypos*ypos < 4) and (iteration < maxiteration):\n",
    "                xpos, ypos = xpos*xpos - ypos*ypos + xx, 2.0*xpos*ypos + yy\n",
    "                iteration += 1.0\n",
    "\n",
    "            rgb[0] = (iteration % 20.0) / 20.0\n",
    "            rgb[1] = (iteration % 10.0) / 10.0\n",
    "            rgb[2] = (iteration % 20.0) / 20.0\n",
    "            imagedata[y][x][0] = int(255*rgb[0])\n",
    "            imagedata[y][x][1] = int(255*rgb[1])\n",
    "            imagedata[y][x][2] = int(255*rgb[2])\n",
    "    return imagedata"
   ]
  },
  {
   "cell_type": "code",
   "execution_count": null,
   "metadata": {},
   "outputs": [],
   "source": [
    "%%time\n",
    "w = 256\n",
    "h = 256\n",
    "data = CreateMandelbrotImageNumba(w,h,200)\n",
    "image = RGBImage(w, h, init_memory=False)\n",
    "image.data = data\n",
    "image"
   ]
  },
  {
   "cell_type": "markdown",
   "metadata": {},
   "source": [
    "##### 1.5.3 Perlin Noise / Simplex Noise"
   ]
  },
  {
   "cell_type": "code",
   "execution_count": null,
   "metadata": {},
   "outputs": [],
   "source": [
    "noise = SimplexNoise()"
   ]
  },
  {
   "cell_type": "code",
   "execution_count": null,
   "metadata": {},
   "outputs": [],
   "source": [
    "for x in range(w):\n",
    "    for y in range(h):\n",
    "        xx = x/w\n",
    "        yy = y/h\n",
    "        n = noise.noise2(10*xx,20*yy)\n",
    "        \n",
    "        rgb[0] = 0\n",
    "        rgb[1] = n*n*256 \n",
    "        rgb[2] = abs(n*256)\n",
    "        \n",
    "        rgb = clamp3(rgb, Vec3(0,0,0), Vec3(255,255,255))\n",
    "        image.data[y][x][0] = int(rgb[0])\n",
    "        image.data[y][x][1] = int(rgb[1])\n",
    "        image.data[y][x][2] = int(rgb[2])\n",
    "image"
   ]
  },
  {
   "cell_type": "markdown",
   "metadata": {},
   "source": [
    "###### Perlin Noise 3D"
   ]
  },
  {
   "cell_type": "code",
   "execution_count": null,
   "metadata": {},
   "outputs": [],
   "source": [
    "z=100\n",
    "for x in range(w):\n",
    "    for y in range(h):\n",
    "        xx = x/w\n",
    "        yy = y/h\n",
    "        n = abs(noise.noise3(5*xx,5*yy,z))*256\n",
    "        \n",
    "        if n<=50:\n",
    "            rgb[0] = 60\n",
    "            rgb[1] = 0 \n",
    "            rgb[2] = 0\n",
    "        else:\n",
    "            rgb[0] = 0\n",
    "            rgb[1] = n \n",
    "            rgb[2] = n\n",
    "        \n",
    "        rgb = clamp3(rgb, Vec3(0,0,0), Vec3(255,255,255))\n",
    "        image.data[y][x][0] = int(rgb[0])\n",
    "        image.data[y][x][1] = int(rgb[1])\n",
    "        image.data[y][x][2] = int(rgb[2])\n",
    "image"
   ]
  },
  {
   "cell_type": "markdown",
   "metadata": {},
   "source": [
    "###### Cumulative Noise"
   ]
  },
  {
   "cell_type": "code",
   "execution_count": null,
   "metadata": {},
   "outputs": [],
   "source": [
    "for x in range(w):\n",
    "    for y in range(h):\n",
    "        xx = x/w\n",
    "        yy = y/h\n",
    "        n = abs(noise.noise2(3*xx*xx,2*yy*yy))*256\n",
    "        q = abs(noise.noise2(12*xx,12*yy))*256\n",
    "        \n",
    "        rgb[0] = n\n",
    "        rgb[1] = q \n",
    "        rgb[2] = n\n",
    "        \n",
    "        rgb = clamp3(rgb, Vec3(0,0,0), Vec3(255,255,255))\n",
    "        image.data[y][x][0] = int(rgb[0])\n",
    "        image.data[y][x][1] = int(rgb[1])\n",
    "        image.data[y][x][2] = int(rgb[2])\n",
    "\n",
    "image\n"
   ]
  },
  {
   "cell_type": "markdown",
   "metadata": {},
   "source": [
    "#### 1.6 Movies"
   ]
  },
  {
   "cell_type": "code",
   "execution_count": null,
   "metadata": {},
   "outputs": [],
   "source": [
    "from pyrt.renderer import RGBImage\n",
    "from pyrt.math import Vec2, Vec3\n",
    "import moviepy.editor as mpy\n",
    "from IPython.display import Image"
   ]
  },
  {
   "cell_type": "code",
   "execution_count": null,
   "metadata": {},
   "outputs": [],
   "source": [
    "w = 256\n",
    "h = 256\n",
    "image = RGBImage(w, h)"
   ]
  },
  {
   "cell_type": "code",
   "execution_count": null,
   "metadata": {},
   "outputs": [],
   "source": [
    "def make_frame(t):\n",
    "    image.drawCircleFilled(Vec2(127,127), int(t*8), Vec3(0,0,0), Vec3(1,0,0), 1)\n",
    "    return image.data"
   ]
  },
  {
   "cell_type": "code",
   "execution_count": null,
   "metadata": {},
   "outputs": [],
   "source": [
    "clip = mpy.VideoClip(make_frame, duration=5)\n",
    "clip.write_gif(\"animation.gif\",fps=30, opt=\"OptimizePlus\", fuzz=10)"
   ]
  },
  {
   "cell_type": "code",
   "execution_count": null,
   "metadata": {},
   "outputs": [],
   "source": [
    "Image(url='animation.gif')"
   ]
  },
  {
   "cell_type": "markdown",
   "metadata": {},
   "source": [
    "#### 2. Ray Tracing"
   ]
  },
  {
   "cell_type": "code",
   "execution_count": null,
   "metadata": {},
   "outputs": [],
   "source": [
    "from pyrt.math import Vec3\n",
    "from pyrt.scene import Scene\n",
    "from pyrt.light import PointLight\n",
    "from pyrt.geometry import Triangle, Sphere, Vertex\n",
    "from pyrt.material import PhongMaterial\n",
    "from pyrt.camera import PerspectiveCamera\n",
    "from pyrt.renderer import SimpleRT\n",
    "from PIL import Image"
   ]
  },
  {
   "cell_type": "code",
   "execution_count": null,
   "metadata": {},
   "outputs": [],
   "source": [
    "# Set width/height of output image\n",
    "width = 320\n",
    "height = 240"
   ]
  },
  {
   "cell_type": "code",
   "execution_count": null,
   "metadata": {},
   "outputs": [],
   "source": [
    "# now create a camera and a view like in example 5:\n",
    "camera = PerspectiveCamera(width, height, 45)\n",
    "camera.setView(Vec3(0.,-10.,10.), Vec3(0.,0.,0.), Vec3(0.,0.,1.))"
   ]
  },
  {
   "cell_type": "code",
   "execution_count": null,
   "metadata": {},
   "outputs": [],
   "source": [
    "# Create a scene\n",
    "scene = Scene()"
   ]
  },
  {
   "cell_type": "code",
   "execution_count": null,
   "metadata": {},
   "outputs": [],
   "source": [
    "# Add a light to the scene\n",
    "scene.addLight(PointLight(Vec3(0,0,15)))"
   ]
  },
  {
   "cell_type": "code",
   "execution_count": null,
   "metadata": {},
   "outputs": [],
   "source": [
    "# create some materials:\n",
    "floormaterial = PhongMaterial(color=Vec3(0.1,0.1,0.1))\n",
    "sphere0material = PhongMaterial(color=Vec3(1.,0.,0.), reflectivity=0.5)\n",
    "sphere1material = PhongMaterial(color=Vec3(0.,1.,0.), reflectivity=0.5)\n",
    "sphere2material = PhongMaterial(color=Vec3(0.,0.,1.), reflectivity=0.5)\n",
    "sphere3material = PhongMaterial(color=Vec3(1.,1.,0.), reflectivity=0.5)"
   ]
  },
  {
   "cell_type": "code",
   "execution_count": null,
   "metadata": {},
   "outputs": [],
   "source": [
    "# Add \"floor\"\n",
    "A = Vertex(position=(-5.0, -5.0, 0.0))\n",
    "B = Vertex(position=( 5.0, -5.0, 0.0))\n",
    "C = Vertex(position=( 5.0,  5.0, 0.0))\n",
    "D = Vertex(position=(-5.0,  5.0, 0.0))\n",
    "\n",
    "scene.add(Triangle(A,B,C, material=floormaterial))\n",
    "scene.add(Triangle(A,C,D, material=floormaterial))"
   ]
  },
  {
   "cell_type": "code",
   "execution_count": null,
   "metadata": {},
   "outputs": [],
   "source": [
    "# Add some spheres\n",
    "scene.add(Sphere(center=Vec3(-2.5,-2.5,1.75), radius=1.75, material=sphere0material))\n",
    "scene.add(Sphere(center=Vec3( 2.5,-2.5,1.75), radius=1.75, material=sphere1material))\n",
    "scene.add(Sphere(center=Vec3( 2.5, 2.5,1.75), radius=1.75, material=sphere2material))\n",
    "scene.add(Sphere(center=Vec3(-2.5, 2.5,1.75), radius=1.75, material=sphere3material))"
   ]
  },
  {
   "cell_type": "code",
   "execution_count": null,
   "metadata": {},
   "outputs": [],
   "source": [
    "# Now tell the scene which camera we use\n",
    "scene.setCamera(camera)"
   ]
  },
  {
   "cell_type": "code",
   "execution_count": null,
   "metadata": {},
   "outputs": [],
   "source": [
    "# Create a raytracer using \"SimpleRT\"\n",
    "engine = SimpleRT(shadow=True, iterations=3)"
   ]
  },
  {
   "cell_type": "code",
   "execution_count": null,
   "metadata": {},
   "outputs": [],
   "source": [
    "# Render the scene, this takes a while, especially if you have a slow computer!\n",
    "image = engine.render(scene)"
   ]
  },
  {
   "cell_type": "code",
   "execution_count": null,
   "metadata": {},
   "outputs": [],
   "source": [
    "# Display the image\n",
    "image"
   ]
  },
  {
   "cell_type": "code",
   "execution_count": null,
   "metadata": {},
   "outputs": [],
   "source": []
  }
 ],
 "metadata": {
  "kernelspec": {
   "display_name": "Python 3",
   "language": "python",
   "name": "python3"
  },
  "language_info": {
   "codemirror_mode": {
    "name": "ipython",
    "version": 3
   },
   "file_extension": ".py",
   "mimetype": "text/x-python",
   "name": "python",
   "nbconvert_exporter": "python",
   "pygments_lexer": "ipython3",
   "version": "3.7.6"
  }
 },
 "nbformat": 4,
 "nbformat_minor": 4
}
